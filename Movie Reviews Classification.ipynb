{
 "cells": [
  {
   "cell_type": "markdown",
   "id": "5de75b46",
   "metadata": {},
   "source": [
    "# Imports"
   ]
  },
  {
   "cell_type": "code",
   "execution_count": 1,
   "id": "2bcad231",
   "metadata": {},
   "outputs": [],
   "source": [
    "import pandas as pd\n",
    "import numpy as np\n",
    "import nltk\n",
    "from nltk.tokenize import word_tokenize,sent_tokenize\n",
    "from transformers import BertTokenizer\n",
    "# import torch\n",
    "# from torch import nn\n",
    "# from transformers import BertModel\n",
    "# from torch.optim import Adam\n",
    "# from tqdm import tqdm"
   ]
  },
  {
   "cell_type": "markdown",
   "id": "6340874b",
   "metadata": {},
   "source": [
    "# Data Reading"
   ]
  },
  {
   "cell_type": "code",
   "execution_count": 2,
   "id": "5f7ca84a",
   "metadata": {},
   "outputs": [
    {
     "data": {
      "text/html": [
       "<div>\n",
       "<style scoped>\n",
       "    .dataframe tbody tr th:only-of-type {\n",
       "        vertical-align: middle;\n",
       "    }\n",
       "\n",
       "    .dataframe tbody tr th {\n",
       "        vertical-align: top;\n",
       "    }\n",
       "\n",
       "    .dataframe thead th {\n",
       "        text-align: right;\n",
       "    }\n",
       "</style>\n",
       "<table border=\"1\" class=\"dataframe\">\n",
       "  <thead>\n",
       "    <tr style=\"text-align: right;\">\n",
       "      <th></th>\n",
       "      <th>review</th>\n",
       "      <th>sentiment</th>\n",
       "    </tr>\n",
       "  </thead>\n",
       "  <tbody>\n",
       "    <tr>\n",
       "      <th>0</th>\n",
       "      <td>One of the other reviewers has mentioned that ...</td>\n",
       "      <td>positive</td>\n",
       "    </tr>\n",
       "    <tr>\n",
       "      <th>1</th>\n",
       "      <td>A wonderful little production. &lt;br /&gt;&lt;br /&gt;The...</td>\n",
       "      <td>positive</td>\n",
       "    </tr>\n",
       "    <tr>\n",
       "      <th>2</th>\n",
       "      <td>I thought this was a wonderful way to spend ti...</td>\n",
       "      <td>positive</td>\n",
       "    </tr>\n",
       "    <tr>\n",
       "      <th>3</th>\n",
       "      <td>Basically there's a family where a little boy ...</td>\n",
       "      <td>negative</td>\n",
       "    </tr>\n",
       "    <tr>\n",
       "      <th>4</th>\n",
       "      <td>Petter Mattei's \"Love in the Time of Money\" is...</td>\n",
       "      <td>positive</td>\n",
       "    </tr>\n",
       "    <tr>\n",
       "      <th>...</th>\n",
       "      <td>...</td>\n",
       "      <td>...</td>\n",
       "    </tr>\n",
       "    <tr>\n",
       "      <th>49995</th>\n",
       "      <td>I thought this movie did a down right good job...</td>\n",
       "      <td>positive</td>\n",
       "    </tr>\n",
       "    <tr>\n",
       "      <th>49996</th>\n",
       "      <td>Bad plot, bad dialogue, bad acting, idiotic di...</td>\n",
       "      <td>negative</td>\n",
       "    </tr>\n",
       "    <tr>\n",
       "      <th>49997</th>\n",
       "      <td>I am a Catholic taught in parochial elementary...</td>\n",
       "      <td>negative</td>\n",
       "    </tr>\n",
       "    <tr>\n",
       "      <th>49998</th>\n",
       "      <td>I'm going to have to disagree with the previou...</td>\n",
       "      <td>negative</td>\n",
       "    </tr>\n",
       "    <tr>\n",
       "      <th>49999</th>\n",
       "      <td>No one expects the Star Trek movies to be high...</td>\n",
       "      <td>negative</td>\n",
       "    </tr>\n",
       "  </tbody>\n",
       "</table>\n",
       "<p>50000 rows × 2 columns</p>\n",
       "</div>"
      ],
      "text/plain": [
       "                                                  review sentiment\n",
       "0      One of the other reviewers has mentioned that ...  positive\n",
       "1      A wonderful little production. <br /><br />The...  positive\n",
       "2      I thought this was a wonderful way to spend ti...  positive\n",
       "3      Basically there's a family where a little boy ...  negative\n",
       "4      Petter Mattei's \"Love in the Time of Money\" is...  positive\n",
       "...                                                  ...       ...\n",
       "49995  I thought this movie did a down right good job...  positive\n",
       "49996  Bad plot, bad dialogue, bad acting, idiotic di...  negative\n",
       "49997  I am a Catholic taught in parochial elementary...  negative\n",
       "49998  I'm going to have to disagree with the previou...  negative\n",
       "49999  No one expects the Star Trek movies to be high...  negative\n",
       "\n",
       "[50000 rows x 2 columns]"
      ]
     },
     "metadata": {},
     "output_type": "display_data"
    }
   ],
   "source": [
    "dataset = pd.read_csv(\"IMDB Dataset.csv\", sep=',')\n",
    "# dataset = pd.read_csv(\"fruits.csv\", sep=',')\n",
    "display(dataset)"
   ]
  },
  {
   "cell_type": "markdown",
   "id": "c56e438d",
   "metadata": {},
   "source": [
    "# Data Split"
   ]
  },
  {
   "cell_type": "code",
   "execution_count": 3,
   "id": "9a535a16",
   "metadata": {},
   "outputs": [
    {
     "data": {
      "text/html": [
       "<div>\n",
       "<style scoped>\n",
       "    .dataframe tbody tr th:only-of-type {\n",
       "        vertical-align: middle;\n",
       "    }\n",
       "\n",
       "    .dataframe tbody tr th {\n",
       "        vertical-align: top;\n",
       "    }\n",
       "\n",
       "    .dataframe thead th {\n",
       "        text-align: right;\n",
       "    }\n",
       "</style>\n",
       "<table border=\"1\" class=\"dataframe\">\n",
       "  <thead>\n",
       "    <tr style=\"text-align: right;\">\n",
       "      <th></th>\n",
       "      <th>review</th>\n",
       "      <th>sentiment</th>\n",
       "    </tr>\n",
       "  </thead>\n",
       "  <tbody>\n",
       "    <tr>\n",
       "      <th>0</th>\n",
       "      <td>One of the other reviewers has mentioned that ...</td>\n",
       "      <td>positive</td>\n",
       "    </tr>\n",
       "    <tr>\n",
       "      <th>1</th>\n",
       "      <td>I thought this was a wonderful way to spend ti...</td>\n",
       "      <td>positive</td>\n",
       "    </tr>\n",
       "    <tr>\n",
       "      <th>2</th>\n",
       "      <td>Petter Mattei's \"Love in the Time of Money\" is...</td>\n",
       "      <td>positive</td>\n",
       "    </tr>\n",
       "    <tr>\n",
       "      <th>3</th>\n",
       "      <td>Probably my all-time favorite movie, a story o...</td>\n",
       "      <td>positive</td>\n",
       "    </tr>\n",
       "    <tr>\n",
       "      <th>4</th>\n",
       "      <td>I sure would like to see a resurrection of a u...</td>\n",
       "      <td>positive</td>\n",
       "    </tr>\n",
       "    <tr>\n",
       "      <th>...</th>\n",
       "      <td>...</td>\n",
       "      <td>...</td>\n",
       "    </tr>\n",
       "    <tr>\n",
       "      <th>34995</th>\n",
       "      <td>A remake of Alejandro Amenabar's Abre los Ojos...</td>\n",
       "      <td>negative</td>\n",
       "    </tr>\n",
       "    <tr>\n",
       "      <th>34996</th>\n",
       "      <td>Lame, lame, lame!!! A 90-minute cringe-fest th...</td>\n",
       "      <td>negative</td>\n",
       "    </tr>\n",
       "    <tr>\n",
       "      <th>34997</th>\n",
       "      <td>Les Visiteurs, the first movie about the medie...</td>\n",
       "      <td>negative</td>\n",
       "    </tr>\n",
       "    <tr>\n",
       "      <th>34998</th>\n",
       "      <td>I'm going to have to disagree with the previou...</td>\n",
       "      <td>negative</td>\n",
       "    </tr>\n",
       "    <tr>\n",
       "      <th>34999</th>\n",
       "      <td>No one expects the Star Trek movies to be high...</td>\n",
       "      <td>negative</td>\n",
       "    </tr>\n",
       "  </tbody>\n",
       "</table>\n",
       "<p>35000 rows × 2 columns</p>\n",
       "</div>"
      ],
      "text/plain": [
       "                                                  review sentiment\n",
       "0      One of the other reviewers has mentioned that ...  positive\n",
       "1      I thought this was a wonderful way to spend ti...  positive\n",
       "2      Petter Mattei's \"Love in the Time of Money\" is...  positive\n",
       "3      Probably my all-time favorite movie, a story o...  positive\n",
       "4      I sure would like to see a resurrection of a u...  positive\n",
       "...                                                  ...       ...\n",
       "34995  A remake of Alejandro Amenabar's Abre los Ojos...  negative\n",
       "34996  Lame, lame, lame!!! A 90-minute cringe-fest th...  negative\n",
       "34997  Les Visiteurs, the first movie about the medie...  negative\n",
       "34998  I'm going to have to disagree with the previou...  negative\n",
       "34999  No one expects the Star Trek movies to be high...  negative\n",
       "\n",
       "[35000 rows x 2 columns]"
      ]
     },
     "metadata": {},
     "output_type": "display_data"
    }
   ],
   "source": [
    "# split data to positive and negative\n",
    "p_samples = dataset[dataset['sentiment'] == 'positive']\n",
    "n_samples = dataset[dataset['sentiment'] == 'negative']\n",
    "# display(p_samples)\n",
    "# display(n_samples)\n",
    "\n",
    "# split the positive class samples to (70%, 10%, 20%) for (training, validation, testing) respectively \n",
    "p_testing = p_samples.sample(frac = 0.2)\n",
    "p_validation = p_samples.drop(p_testing.index).sample(frac = 0.125)\n",
    "p_training = p_samples.drop(p_validation.index).drop(p_testing.index)\n",
    "\n",
    "# split the negative class samples to (70%, 10%, 20%) for (training, validation, testing) respectively \n",
    "n_testing = n_samples.sample(frac = 0.2)\n",
    "n_validation = n_samples.drop(n_testing.index).sample(frac = 0.125)\n",
    "n_training = n_samples.drop(n_validation.index).drop(n_testing.index)\n",
    "\n",
    "# concatenating the 70% of p-class and n-class to form the training set\n",
    "training_set = pd.concat([p_training, n_training], axis=0, ignore_index=True)\n",
    "\n",
    "# concatenating the 10% of p-class and n-class to form the validation set\n",
    "validation_set = pd.concat([p_validation, n_validation], axis=0, ignore_index=True)\n",
    "\n",
    "# concatenating the 20% of p-class and n-class to form the testing set\n",
    "testing_set = pd.concat([p_testing, n_testing], axis=0, ignore_index=True)\n",
    "\n",
    "display(training_set)\n",
    "# display(validation_set)\n",
    "# display(testing_set)\n",
    "\n",
    "\n",
    "# training_review = training_set.iloc[:,:-1]\n",
    "# training_class = training_set.iloc[:,-1]\n",
    "# display(training_review)\n",
    "# display(training_class)\n",
    "\n",
    "# validation_review = validation_set.iloc[:,:-1]\n",
    "# validation_class = validation_set.iloc[:,-1]\n",
    "# display(testing_review)\n",
    "# display(testing_class)\n",
    "\n",
    "# testing_review = testing_set.iloc[:,:-1]\n",
    "# testing_class = testing_set.iloc[:,-1]\n",
    "# display(testing_review)\n",
    "# display(testing_class)"
   ]
  },
  {
   "cell_type": "markdown",
   "id": "03324c96",
   "metadata": {},
   "source": [
    "# Text Pre-processing"
   ]
  },
  {
   "cell_type": "markdown",
   "id": "e6a7405d",
   "metadata": {},
   "source": [
    "### Remove punctuation"
   ]
  },
  {
   "cell_type": "code",
   "execution_count": 7,
   "id": "47112fe0",
   "metadata": {},
   "outputs": [],
   "source": [
    "import string\n",
    "string.punctuation\n",
    "\n",
    "def remove_punctuation(text):\n",
    "    return \"\".join([i for i in text if i not in string.punctuation])\n",
    "\n",
    "# storing the puntuation free text\n",
    "training_set['free_punc_review']= training_set['review'].apply(lambda x:remove_punctuation(x))\n",
    "validation_set['free_punc_review']= validation_set['review'].apply(lambda x:remove_punctuation(x))\n",
    "testing_set['free_punc_review']= testing_set['review'].apply(lambda x:remove_punctuation(x))"
   ]
  },
  {
   "cell_type": "markdown",
   "id": "841345d3",
   "metadata": {},
   "source": [
    "### Lowercase all characters"
   ]
  },
  {
   "cell_type": "code",
   "execution_count": 8,
   "id": "45c02880",
   "metadata": {},
   "outputs": [],
   "source": [
    "training_set['review_lower']= training_set['free_punc_review'].apply(lambda x: x.lower())\n",
    "validation_set['review_lower']= validation_set['free_punc_review'].apply(lambda x: x.lower())\n",
    "testing_set['review_lower']= testing_set['free_punc_review'].apply(lambda x: x.lower())"
   ]
  },
  {
   "cell_type": "markdown",
   "id": "482969df",
   "metadata": {},
   "source": [
    "### Tokenization"
   ]
  },
  {
   "cell_type": "code",
   "execution_count": null,
   "id": "7f3d600d",
   "metadata": {},
   "outputs": [],
   "source": [
    "import re\n",
    "def tokenization(text):\n",
    "    tokens = word_tokenize(text)\n",
    "    return tokens\n",
    "training_set['review_tokenied'] = training_set['review_lower'].apply(lambda x: tokenization(x))\n",
    "validation_set['review_tokenied'] = validation_set['review_lower'].apply(lambda x: tokenization(x))\n",
    "testing_set['review_tokenied'] = testing_set['review_lower'].apply(lambda x: tokenization(x))"
   ]
  },
  {
   "cell_type": "markdown",
   "id": "b5545e6b",
   "metadata": {},
   "source": [
    "### Remove stop words"
   ]
  },
  {
   "cell_type": "code",
   "execution_count": null,
   "id": "8ecdd26b",
   "metadata": {},
   "outputs": [],
   "source": [
    "from nltk.corpus import stopwords\n",
    "stop_words = nltk.corpus.stopwords.words('english')\n",
    "stop_words[0:10]\n",
    "['i', 'the', 'me', 'my', 'myself', 'we', 'our', 'ours', 'ourselves', 'you', \"you're\"]\n",
    "\n",
    "def remove_stopwords(text):\n",
    "    output= [i for i in text if i not in stop_words]\n",
    "    return output\n",
    "\n",
    "training_set['no_stopwords'] = training_set['review_tokenied'].apply(lambda x:remove_stopwords(x))\n",
    "validation_set['no_stopwords'] = validation_set['review_tokenied'].apply(lambda x:remove_stopwords(x))\n",
    "testing_set['no_stopwords'] = testing_set['review_tokenied'].apply(lambda x:remove_stopwords(x))"
   ]
  },
  {
   "cell_type": "markdown",
   "id": "1d8b2081",
   "metadata": {},
   "source": [
    "### Lemmatization"
   ]
  },
  {
   "cell_type": "code",
   "execution_count": null,
   "id": "f306a319",
   "metadata": {},
   "outputs": [],
   "source": [
    "from nltk.stem import WordNetLemmatizer\n",
    "#defining the object for Lemmatization\n",
    "wordnet_lemmatizer = WordNetLemmatizer()\n",
    "\n",
    "def lemmatizer(text):\n",
    "    if type(text) is float : \n",
    "        return []\n",
    "    lemm_text = [wordnet_lemmatizer.lemmatize(word) for word in text]\n",
    "    return lemm_text\n",
    "training_set['review_lemmatized'] = training_set['no_stopwords'].apply(lambda x:lemmatizer(x))\n",
    "\n",
    "display(training_set)\n",
    "display(validation_set)\n",
    "display(testing_set)"
   ]
  },
  {
   "cell_type": "markdown",
   "id": "86854782",
   "metadata": {},
   "source": [
    "# Classification using BERT"
   ]
  },
  {
   "cell_type": "code",
   "execution_count": null,
   "id": "01d14019",
   "metadata": {},
   "outputs": [],
   "source": []
  },
  {
   "cell_type": "markdown",
   "id": "3fdc0d44",
   "metadata": {},
   "source": []
  },
  {
   "cell_type": "code",
   "execution_count": null,
   "id": "02566cb8",
   "metadata": {},
   "outputs": [],
   "source": []
  }
 ],
 "metadata": {
  "kernelspec": {
   "display_name": "Python 3",
   "language": "python",
   "name": "python3"
  },
  "language_info": {
   "codemirror_mode": {
    "name": "ipython",
    "version": 3
   },
   "file_extension": ".py",
   "mimetype": "text/x-python",
   "name": "python",
   "nbconvert_exporter": "python",
   "pygments_lexer": "ipython3",
   "version": "3.8.8"
  }
 },
 "nbformat": 4,
 "nbformat_minor": 5
}
